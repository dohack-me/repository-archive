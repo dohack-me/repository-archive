{
 "cells": [
  {
   "attachments": {},
   "cell_type": "markdown",
   "metadata": {},
   "source": [
    "# SD Card Decoding"
   ]
  },
  {
   "attachments": {},
   "cell_type": "markdown",
   "metadata": {},
   "source": [
    "## Protocol Outline\n"
   ]
  },
  {
   "attachments": {},
   "cell_type": "markdown",
   "metadata": {},
   "source": [
    "The protocol employs an 8-LED NeoPixel strip to encode hexadecimal data. The LEDs are numbered 0 through 7. Each LED can take Red, Green, and Blue values, with each value ranging from 0 to 255. The actual displayed color of the LED is determined by the combination of these three values.\n",
    "\n",
    "1. **Packet Start**:\n",
    "   - A new packet begins with LED 0 displaying solid White (255,255,255) for 2 seconds. LEDs 1-7 are off at this time.\n",
    "\n",
    "Here's an ASCII representation of the NeoPixel strip at the start of a packet:\n",
    "\n",
    "```\n",
    "LED: 0 1 2 3 4 5 6 7\n",
    "     ↓\n",
    "     Solid White (Packet Start)\n",
    "```\n",
    "\n",
    "2. **Channel Indication and Data Encoding**:\n",
    "   - After the 2-second delay, LED 0 is set to pure Red, Green, or Blue (255 intensity on the chosen color and 0 on the other two). This indicates the data channel for the current packet.\n",
    "   - Simultaneously, hex data is encoded into the color intensities on LEDs 1-7. The chosen channel carries the actual data, and the other two channels are set to random intensities.\n",
    "   - Each LED from 1-7 represents one byte of hex data, encoding a total of 7 bytes per packet on the chosen channel.\n",
    "\n",
    "After the delay, LED 0 is set to pure Red, Green, or Blue to indicate the chosen channel, and data is simultaneously encoded into the color intensities on LEDs 1-7. In this example, we choose the Green channel, so LED 0 will be pure green (0,255,0) and the Green value will carry the actual data on LEDs 1-7:\n",
    "\n",
    "```\n",
    "LED: 0           1           2           3           4           5           6           7\n",
    "R    (0)         RND         RND         RND         RND         RND         RND         RND\n",
    "G    (255)       DATA        DATA        DATA        DATA        DATA        DATA        DATA\n",
    "B    (0)         RND         RND         RND         RND         RND         RND         RND\n",
    "```\n",
    "\n",
    "Remember, the color displayed by each LED is the combination of the Red, Green, and Blue values. Therefore, LEDs won't show pure colors (except for LED 0 at the channel indication step).\n",
    "\n",
    "3. **Additional Notes**:\n",
    "   - Each packet will be broadcast for 3 seconds\n",
    "   - After each broadcast, LEDs will be cleared (turned off) until the next packet is broadcasted.\n",
    "   - After all packets have been broadcasted, LEDs will turn off. "
   ]
  },
  {
   "attachments": {},
   "cell_type": "markdown",
   "metadata": {},
   "source": [
    "## Challenge"
   ]
  },
  {
   "attachments": {},
   "cell_type": "markdown",
   "metadata": {},
   "source": [
    "### Arduino Src Code"
   ]
  },
  {
   "attachments": {},
   "cell_type": "markdown",
   "metadata": {},
   "source": [
    "\n",
    "```c\n",
    "#include <Adafruit_NeoPixel.h>\n",
    "\n",
    "#define PIN            6\n",
    "#define NUMPIXELS      8\n",
    "#define DELAY_MS       2000\n",
    "#define TIME_BTWN_PACKET 3000\n",
    "\n",
    "Adafruit_NeoPixel pixels(NUMPIXELS, PIN, NEO_GRB + NEO_KHZ800);\n",
    "char channels[] = {'R', 'G', 'B'};\n",
    "uint8_t data[] = \"ACSI{n0t_v3ryyy_s3cur33_m3ssag1ng_5y5t3m_fdb8ca26}\";\n",
    "bool toSend = true;\n",
    "\n",
    "void clear() {\n",
    "  for (int i = 0; i < NUMPIXELS; i++) {\n",
    "    pixels.setPixelColor(i, pixels.Color(0, 0, 0));\n",
    "  }\n",
    "  pixels.show();\n",
    "}\n",
    "\n",
    "void sendData(char channel, uint8_t* data, int len) {\n",
    "  //indicate start of packet and Set LED 0 to White\n",
    "  clear();\n",
    "  pixels.setPixelColor(0, pixels.Color(255, 255, 255));\n",
    "  pixels.show();\n",
    "  delay(DELAY_MS);\n",
    "  \n",
    "  // Set the LED 0 to the corresponding channel\n",
    "  if (channel == 'R') {\n",
    "    pixels.setPixelColor(0, pixels.Color(255, 0, 0));\n",
    "  } else if (channel == 'G') {\n",
    "    pixels.setPixelColor(0, pixels.Color(0, 255, 0));\n",
    "  } else if (channel == 'B') {\n",
    "    pixels.setPixelColor(0, pixels.Color(0, 0, 255));\n",
    "  }\n",
    "    \n",
    "  // Send data\n",
    "  for (int i = 0; i < 7; i++) {\n",
    "    uint8_t r = channel == 'R' ? (i < len ? data[i] : 0) : random(255);\n",
    "    uint8_t g = channel == 'G' ? (i < len ? data[i] : 0) : random(255);\n",
    "    uint8_t b = channel == 'B' ? (i < len ? data[i] : 0) : random(255);\n",
    "    \n",
    "    pixels.setPixelColor(i + 1, pixels.Color(r, g, b));\n",
    "  }\n",
    "  \n",
    "  //display\n",
    "  pixels.show();\n",
    "}\n",
    "\n",
    "void setup() {\n",
    "  // Init Serial\n",
    "  Serial.begin(115200);\n",
    "\n",
    "  pixels.begin();\n",
    "  // Clear strip\n",
    "  clear();\n",
    "}\n",
    "\n",
    "void loop() {\n",
    "  // wait for serial input before executing following code. once executed, never execute again\n",
    "  while (!Serial.available());\n",
    "  String input = Serial.readString();\n",
    "  if (input != \"start\") {\n",
    "    Serial.println(\"Invalid input\");\n",
    "    return;\n",
    "  } else if (input == \"start\" && toSend) {\n",
    "      Serial.println(\"Starting\");\n",
    "      // Send data in chunks\n",
    "      for (int i = 0; i < sizeof(data); i += 7) {\n",
    "        char channel = channels[random(3)];\n",
    "        sendData(channel, data + i, min(sizeof(data) - i, 7));\n",
    "        delay(TIME_BTWN_PACKET);\n",
    "      }\n",
    "      clear();\n",
    "      toSend = false;\n",
    "      Serial.println(\"Done\");\n",
    "  }\n",
    "}\n",
    "```"
   ]
  },
  {
   "attachments": {},
   "cell_type": "markdown",
   "metadata": {},
   "source": [
    "### Solution"
   ]
  },
  {
   "cell_type": "code",
   "execution_count": 1,
   "metadata": {},
   "outputs": [],
   "source": [
    "import csv\n",
    "\n",
    "def decode_led(file_name):\n",
    "    with open(file_name, 'r') as f:\n",
    "        reader = csv.reader(f)\n",
    "        next(reader)  # Skip the header\n",
    "\n",
    "        data_packets = []\n",
    "        current_packet = []\n",
    "        start_packet = False\n",
    "        data_channel_found = False\n",
    "        data_channel_index = 0\n",
    "\n",
    "        for row in reader:\n",
    "            #strip '0x' and convert to int\n",
    "            index = int(row[4][2:], 16)\n",
    "            pixel = [int(row[5][2:], 16) , int(row[6][2:], 16), int(row[7][2:], 16)] #R,G,B\n",
    "\n",
    "            # Check if we've found packet start (LED 0 flashes white)\n",
    "            if index == 0 and pixel == [255, 255, 255]:\n",
    "                start_packet = True\n",
    "                continue\n",
    "\n",
    "            # get data channel after packet start (either red, green or blue)\n",
    "            if start_packet:\n",
    "                if index == 0:\n",
    "                    start_packet = False\n",
    "                    # data_channel_index is the index of the element in pixel array with value 255\n",
    "                    data_channel_index = pixel.index(255)\n",
    "                    data_channel_found = True\n",
    "                    continue\n",
    "\n",
    "            # Start collecting data after data channel is found\n",
    "            if data_channel_found:\n",
    "                current_packet.append(pixel[data_channel_index])\n",
    "\n",
    "            # Stop collecting data after LED clears (i.e. pixel = [0, 0, 0]) or when we reach 7 bytes\n",
    "            if data_channel_found and (len(current_packet) == 7 or pixel == [0, 0, 0]):\n",
    "                data_packets.append(current_packet)\n",
    "                current_packet = []\n",
    "                data_channel_found = False\n",
    "\n",
    "    # Convert blocks to ASCII and print\n",
    "    for packet in data_packets:\n",
    "        print(''.join(chr(p) for p in packet), end='')"
   ]
  },
  {
   "cell_type": "code",
   "execution_count": 2,
   "metadata": {},
   "outputs": [
    {
     "name": "stdout",
     "output_type": "stream",
     "text": [
      "ACSI{n0t_v3ryyy_s3cur33_m3ssag1ng_5y5t3m_fdb8ca26}\u0000\u0000\u0000\u0000\u0000\u0000"
     ]
    }
   ],
   "source": [
    "decode_led('led.csv')"
   ]
  }
 ],
 "metadata": {
  "kernelspec": {
   "display_name": "Python 3",
   "language": "python",
   "name": "python3"
  },
  "language_info": {
   "codemirror_mode": {
    "name": "ipython",
    "version": 3
   },
   "file_extension": ".py",
   "mimetype": "text/x-python",
   "name": "python",
   "nbconvert_exporter": "python",
   "pygments_lexer": "ipython3",
   "version": "3.10.9"
  },
  "orig_nbformat": 4,
  "vscode": {
   "interpreter": {
    "hash": "94e04f31a9d442f533364e9fbbf64399771c311287fb471219c2766006667fdb"
   }
  }
 },
 "nbformat": 4,
 "nbformat_minor": 2
}
